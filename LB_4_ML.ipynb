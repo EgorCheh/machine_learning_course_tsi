{
 "cells": [
  {
   "cell_type": "markdown",
   "metadata": {},
   "source": [
    "# Linear regression"
   ]
  },
  {
   "cell_type": "code",
   "execution_count": 1,
   "metadata": {},
   "outputs": [],
   "source": [
    "import numpy as np \n",
    "import matplotlib.pyplot as plt \n",
    "import seaborn as sns \n",
    "import pandas as pd "
   ]
  },
  {
   "cell_type": "markdown",
   "metadata": {},
   "source": [
    "Реализация метода"
   ]
  },
  {
   "cell_type": "code",
   "execution_count": 2,
   "metadata": {},
   "outputs": [],
   "source": [
    "def Linear_regression(X,Y):\n",
    "    W = np.zeros(X.shape[1]) \n",
    "    X_0 = np.ones((len(X), 1))\n",
    "    \n",
    "    X_new = np.append(X_0, X, axis=1)\n",
    "    \n",
    "    A = X_new.T.dot(X_new)\n",
    "    b = X_new.T.dot(Y.reshape(-1, 1))\n",
    "    \n",
    "    W = np.linalg.inv(A).dot(b)\n",
    "    \n",
    "    result_Y = X_new.dot(W) \n",
    "    return result_Y"
   ]
  },
  {
   "cell_type": "markdown",
   "metadata": {},
   "source": [
    "Оценка производительностипостроенной модели"
   ]
  },
  {
   "cell_type": "code",
   "execution_count": 3,
   "metadata": {},
   "outputs": [],
   "source": [
    "def accuracy(X, Y):\n",
    "        Y1 = Y\n",
    "        Y2 = Linear_regression(X,Y)\n",
    "        sum_1 = np.sum((Y1 - Y2) ** 2)\n",
    "        sum_2 = np.sum((Y1 - Y1.mean()) ** 2)\n",
    "        A = 1 - sum_1/sum_2\n",
    "        return A"
   ]
  },
  {
   "cell_type": "markdown",
   "metadata": {},
   "source": [
    "Применение метода на наборе данных «Компьютерное оборудование» "
   ]
  },
  {
   "cell_type": "code",
   "execution_count": 4,
   "metadata": {},
   "outputs": [],
   "source": [
    "columns = ['vendor name', 'Model Name', 'MYCT', 'MMIN','MMAX', 'CACH', 'CHMIN', 'CHMAX', 'PRP', 'ERP']\n",
    "df = pd.read_csv('http://archive.ics.uci.edu/ml/machine-learning-databases/cpu-performance/machine.data', names = columns)\n",
    "df = df.drop('ERP', axis=1)\n",
    "num = ['MYCT', 'MMIN', 'MMAX', 'CACH', 'CHMIN', 'CHMAX']"
   ]
  },
  {
   "cell_type": "code",
   "execution_count": 5,
   "metadata": {},
   "outputs": [
    {
     "data": {
      "text/plain": [
       "0.8648906922768672"
      ]
     },
     "execution_count": 5,
     "metadata": {},
     "output_type": "execute_result"
    }
   ],
   "source": [
    "accuracy(df[num], np.array(df[['PRP']]))"
   ]
  },
  {
   "cell_type": "markdown",
   "metadata": {},
   "source": [
    "Визуализация восстановления прямой по случайным точкам"
   ]
  },
  {
   "cell_type": "code",
   "execution_count": 6,
   "metadata": {},
   "outputs": [
    {
     "data": {
      "text/plain": [
       "<matplotlib.collections.PathCollection at 0x11d55110>"
      ]
     },
     "execution_count": 6,
     "metadata": {},
     "output_type": "execute_result"
    },
    {
     "data": {
      "image/png": "[encoded data removed]",
      "text/plain": [
       "<Figure size 432x288 with 1 Axes>"
      ]
     },
     "metadata": {
      "needs_background": "light"
     },
     "output_type": "display_data"
    }
   ],
   "source": [
    "X = np.array([[1], [1], [3], [3], [6], [6]])\n",
    "Y = np.array([1, 2, 2, 4, 6, 7])\n",
    "result_Y=Linear_regression(X,Y)\n",
    "plt.plot(X, result_Y) \n",
    "plt.scatter(X, Y)"
   ]
  },
  {
   "cell_type": "code",
   "execution_count": null,
   "metadata": {},
   "outputs": [],
   "source": []
  }
 ],
 "metadata": {
  "kernelspec": {
   "display_name": "Python 3",
   "language": "python",
   "name": "python3"
  },
  "language_info": {
   "codemirror_mode": {
    "name": "ipython",
    "version": 3
   },
   "file_extension": ".py",
   "mimetype": "text/x-python",
   "name": "python",
   "nbconvert_exporter": "python",
   "pygments_lexer": "ipython3",
   "version": "3.7.2"
  }
 },
 "nbformat": 4,
 "nbformat_minor": 2
}
