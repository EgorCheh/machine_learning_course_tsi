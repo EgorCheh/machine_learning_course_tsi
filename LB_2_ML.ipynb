{
 "cells": [
  {
   "cell_type": "markdown",
   "metadata": {},
   "source": [
    "# Perceptron  "
   ]
  },
  {
   "cell_type": "code",
   "execution_count": 1,
   "metadata": {},
   "outputs": [],
   "source": [
    "import pandas as pd\n",
    "import numpy as np\n",
    "from sklearn.model_selection import train_test_split\n",
    "from sklearn.metrics import accuracy_score"
   ]
  },
  {
   "cell_type": "markdown",
   "metadata": {},
   "source": [
    "Реализация метода"
   ]
  },
  {
   "cell_type": "code",
   "execution_count": 2,
   "metadata": {},
   "outputs": [],
   "source": [
    "lamd = lambda x: -1 if x < 0 else 1"
   ]
  },
  {
   "cell_type": "code",
   "execution_count": 3,
   "metadata": {},
   "outputs": [],
   "source": [
    "def Perceptron(X,Y):\n",
    "    n, m = X.shape\n",
    "    W = np.zeros(shape=(m, 1))\n",
    "    new_W = np.zeros(shape=(m, 1))\n",
    "    delta_W=np.zeros(shape=(m, 1))\n",
    "    alpha=0.0001\n",
    "    b = 0.0\n",
    "    new_b = 0.0\n",
    "    run=0\n",
    "    Ys=[]\n",
    "    while run==0:\n",
    "        for xi, yi in zip(X, Y):\n",
    "            z = xi.dot(W)+b\n",
    "            y = lamd(z)\n",
    "            Ys.append(y)\n",
    "            delta_b=alpha*(yi-y)\n",
    "            new_b=new_b+delta_b\n",
    "            for x in range(4):\n",
    "                delta_W[x]=alpha*(yi-y)*xi[x]\n",
    "                new_W[x]=new_W[x]+delta_W[x]\n",
    "        if new_b == b and (new_W == W).all():\n",
    "            run=1\n",
    "        else:\n",
    "            b = new_b\n",
    "            W = new_W\n",
    "            Ys.clear()\n",
    "    print(\"Teaching accuracy = \",accuracy_score(Y.tolist(), Ys))       \n",
    "    return W"
   ]
  },
  {
   "cell_type": "markdown",
   "metadata": {},
   "source": [
    "Подсчет  доли  верно  определенных  классов на валидационной выборе"
   ]
  },
  {
   "cell_type": "code",
   "execution_count": 4,
   "metadata": {},
   "outputs": [],
   "source": [
    "def Test(X,Y,W):\n",
    "    Y.tolist()\n",
    "    Ys=[]\n",
    "    for xi, yi in zip(X, Y):\n",
    "            z = xi.dot(W)\n",
    "            y = lamd(z)\n",
    "            Ys.append(y)\n",
    "    print(\"Test accuracy = \",accuracy_score(Y.tolist(), Ys))"
   ]
  },
  {
   "cell_type": "markdown",
   "metadata": {},
   "source": [
    "Линейно разделимые классы: Iris-setosa, Iris-versicolor"
   ]
  },
  {
   "cell_type": "code",
   "execution_count": 5,
   "metadata": {},
   "outputs": [],
   "source": [
    "iris = pd.read_csv('iris.data.csv')"
   ]
  },
  {
   "cell_type": "code",
   "execution_count": 6,
   "metadata": {},
   "outputs": [],
   "source": [
    "iris_dict = {\n",
    "    'Iris-setosa': -1,\n",
    "    'Iris-versicolor': 1\n",
    "}"
   ]
  },
  {
   "cell_type": "code",
   "execution_count": 7,
   "metadata": {},
   "outputs": [],
   "source": [
    "iris.replace({'class': iris_dict}, inplace=True)"
   ]
  },
  {
   "cell_type": "code",
   "execution_count": 8,
   "metadata": {},
   "outputs": [],
   "source": [
    "Xline = iris.values[:100,:-1]\n",
    "Yline = iris.values[:100,-1]"
   ]
  },
  {
   "cell_type": "code",
   "execution_count": 9,
   "metadata": {},
   "outputs": [
    {
     "name": "stdout",
     "output_type": "stream",
     "text": [
      "80 20 80 20\n"
     ]
    }
   ],
   "source": [
    "x_teach, x_test, y_teach, y_test = train_test_split(Xline, Yline, test_size=0.2)\n",
    "print(len(x_teach), len(x_test), len(y_teach), len(y_test))"
   ]
  },
  {
   "cell_type": "code",
   "execution_count": 10,
   "metadata": {},
   "outputs": [
    {
     "name": "stdout",
     "output_type": "stream",
     "text": [
      "Teaching accuracy =  1.0\n",
      "Test accuracy =  1.0\n"
     ]
    }
   ],
   "source": [
    "W=Perceptron(x_teach,y_teach,)\n",
    "Test(x_test,y_test,W)"
   ]
  },
  {
   "cell_type": "code",
   "execution_count": null,
   "metadata": {},
   "outputs": [],
   "source": []
  }
 ],
 "metadata": {
  "kernelspec": {
   "display_name": "Python 3",
   "language": "python",
   "name": "python3"
  },
  "language_info": {
   "codemirror_mode": {
    "name": "ipython",
    "version": 3
   },
   "file_extension": ".py",
   "mimetype": "text/x-python",
   "name": "python",
   "nbconvert_exporter": "python",
   "pygments_lexer": "ipython3",
   "version": "3.7.2"
  }
 },
 "nbformat": 4,
 "nbformat_minor": 2
}
