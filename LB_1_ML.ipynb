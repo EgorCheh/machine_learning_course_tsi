{
 "cells": [
  {
   "cell_type": "markdown",
   "metadata": {},
   "source": [
    "# k-means"
   ]
  },
  {
   "cell_type": "code",
   "execution_count": 1,
   "metadata": {},
   "outputs": [],
   "source": [
    "import pandas as pd\n",
    "import numpy as np\n",
    "from scipy.spatial import distance\n",
    "import matplotlib.pyplot as plt\n",
    "from sklearn.metrics import accuracy_score"
   ]
  },
  {
   "cell_type": "code",
   "execution_count": 2,
   "metadata": {},
   "outputs": [],
   "source": [
    "df = pd.read_csv('iris.data.csv')"
   ]
  },
  {
   "cell_type": "code",
   "execution_count": 3,
   "metadata": {},
   "outputs": [],
   "source": [
    "X = df.values[:, :4]\n",
    "y = df.values[:,-1]"
   ]
  },
  {
   "cell_type": "markdown",
   "metadata": {},
   "source": [
    "Реализация метода"
   ]
  },
  {
   "cell_type": "code",
   "execution_count": 4,
   "metadata": {},
   "outputs": [],
   "source": [
    "run=1\n",
    "centroid_1=X[0]\n",
    "centroid_2=X[1]\n",
    "centroid_3=X[2]\n",
    "cluster_1=[]\n",
    "cluster_2=[]\n",
    "cluster_3=[]"
   ]
  },
  {
   "cell_type": "code",
   "execution_count": 5,
   "metadata": {},
   "outputs": [],
   "source": [
    "while run :\n",
    "    for iteration in X:\n",
    "        dst_cent_1 = distance.euclidean(centroid_1, iteration)\n",
    "        dst_cent_2 = distance.euclidean(centroid_2, iteration)\n",
    "        dst_cent_3 = distance.euclidean(centroid_3, iteration)\n",
    "        min_dst=min(dst_cent_1,dst_cent_2,dst_cent_3)\n",
    "        if dst_cent_1 == min_dst:\n",
    "            cluster_1.append(iteration)\n",
    "        elif dst_cent_2 == min_dst:\n",
    "            cluster_2.append(iteration)\n",
    "        else:\n",
    "            cluster_3.append(iteration)\n",
    "    newCentroid1=np.mean(cluster_1,axis=0)\n",
    "    \n",
    "    newCentroid2=np.mean(cluster_2,axis=0)\n",
    "    \n",
    "    newCentroid3=np.mean(cluster_3,axis=0)\n",
    "    if (newCentroid1==centroid_1).all()and(newCentroid2==centroid_2).all()and(newCentroid3==centroid_3).all():\n",
    "        run=0\n",
    "    else :\n",
    "        centroid_1=newCentroid1[:]\n",
    "        centroid_2=newCentroid2[:]\n",
    "        centroid_3=newCentroid3[:]\n",
    "        cluster_1.clear()\n",
    "        cluster_2.clear()\n",
    "        cluster_3.clear()\n",
    "        \n"
   ]
  },
  {
   "cell_type": "markdown",
   "metadata": {},
   "source": [
    "визуализация результатов "
   ]
  },
  {
   "cell_type": "code",
   "execution_count": 6,
   "metadata": {},
   "outputs": [
    {
     "name": "stdout",
     "output_type": "stream",
     "text": [
      "39 61 50\n"
     ]
    }
   ],
   "source": [
    "print(len(cluster_1),len(cluster_2),len(cluster_3))"
   ]
  },
  {
   "cell_type": "code",
   "execution_count": 7,
   "metadata": {},
   "outputs": [
    {
     "data": {
      "image/png": "[encoded data removed]",
      "text/plain": [
       "<Figure size 432x288 with 1 Axes>"
      ]
     },
     "metadata": {
      "needs_background": "light"
     },
     "output_type": "display_data"
    },
    {
     "data": {
      "image/png": "[encoded data removed]",
      "text/plain": [
       "<Figure size 432x288 with 1 Axes>"
      ]
     },
     "metadata": {
      "needs_background": "light"
     },
     "output_type": "display_data"
    }
   ],
   "source": [
    "cluster_1=np.array(cluster_1)\n",
    "cluster_2=np.array(cluster_2)\n",
    "cluster_3=np.array(cluster_3)\n",
    "c1 = plt.scatter(cluster_1[:, 0], cluster_1[:, 2], c='r', marker='.')\n",
    "c2 = plt.scatter(cluster_2[:, 0], cluster_2[:, 2], c='g', marker='.')\n",
    "c3 = plt.scatter(cluster_3[:, 0], cluster_3[:, 2], c='b', marker='.')\n",
    "\n",
    "c4= plt.scatter(centroid_1[0], centroid_1[2], c='y', marker='*')\n",
    "c4= plt.scatter(centroid_2[0], centroid_2[2], c='y', marker='*')\n",
    "c4= plt.scatter(centroid_3[0], centroid_3[2], c='y', marker='*')\n",
    "\n",
    "plt.legend([c1, c2, c3,c4], ['Cluster 1', 'Cluster 2', 'Cluster 3','Centroids'])\n",
    "plt.title('After')\n",
    "plt.show()\n",
    "\n",
    "c1 = plt.scatter(X[0:51, 0], X[0:51, 2], c='b', marker='.')\n",
    "c2 = plt.scatter(X[51:101, 0], X[51:101, 2], c='g', marker='.')\n",
    "c3 = plt.scatter(X[101:151, 0], X[101:151, 2], c='r', marker='.')\n",
    "plt.title('Before')\n",
    "\n",
    "plt.legend([c1, c2, c3], ['Cluster 1', 'Cluster 2', 'Cluster 3'])\n",
    "\n",
    "plt.show()"
   ]
  },
  {
   "cell_type": "markdown",
   "metadata": {},
   "source": [
    "Подсчет доли верно определенныхклассов"
   ]
  },
  {
   "cell_type": "code",
   "execution_count": 8,
   "metadata": {},
   "outputs": [],
   "source": [
    "def accuracy(cluster,iris):\n",
    "    true=0\n",
    "    for inter_cluster in cluster:\n",
    "        for inter_iris in iris:\n",
    "            if(inter_iris==inter_cluster).all():\n",
    "                true=true+1\n",
    "                break\n",
    "    print((100/len(cluster)*true),\"%\")"
   ]
  },
  {
   "cell_type": "code",
   "execution_count": 9,
   "metadata": {},
   "outputs": [
    {
     "name": "stdout",
     "output_type": "stream",
     "text": [
      "100.0 %\n",
      "77.04918032786885 %\n",
      "92.30769230769232 %\n"
     ]
    }
   ],
   "source": [
    "setosa=X[0:50]\n",
    "versicolor=X[50:100]\n",
    "virginica=X[100:150]\n",
    "accuracy(cluster_3,setosa)\n",
    "accuracy(cluster_2,versicolor)\n",
    "accuracy(cluster_1,virginica)"
   ]
  },
  {
   "cell_type": "code",
   "execution_count": null,
   "metadata": {},
   "outputs": [],
   "source": []
  },
  {
   "cell_type": "code",
   "execution_count": null,
   "metadata": {},
   "outputs": [],
   "source": []
  }
 ],
 "metadata": {
  "kernelspec": {
   "display_name": "Python 3",
   "language": "python",
   "name": "python3"
  },
  "language_info": {
   "codemirror_mode": {
    "name": "ipython",
    "version": 3
   },
   "file_extension": ".py",
   "mimetype": "text/x-python",
   "name": "python",
   "nbconvert_exporter": "python",
   "pygments_lexer": "ipython3",
   "version": "3.7.2"
  }
 },
 "nbformat": 4,
 "nbformat_minor": 2
}
