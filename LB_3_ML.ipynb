{
 "cells": [
  {
   "cell_type": "markdown",
   "metadata": {},
   "source": [
    "# Adaline"
   ]
  },
  {
   "cell_type": "code",
   "execution_count": 1,
   "metadata": {},
   "outputs": [],
   "source": [
    "import pandas as pd\n",
    "import numpy as np\n",
    "from sklearn.model_selection import train_test_split\n",
    "from sklearn.metrics import accuracy_score\n",
    "from sklearn.preprocessing import StandardScaler"
   ]
  },
  {
   "cell_type": "markdown",
   "metadata": {},
   "source": [
    "Реализация метода"
   ]
  },
  {
   "cell_type": "code",
   "execution_count": 2,
   "metadata": {},
   "outputs": [],
   "source": [
    "lamd = lambda x: -1 if x < 0 else 1"
   ]
  },
  {
   "cell_type": "code",
   "execution_count": 3,
   "metadata": {},
   "outputs": [],
   "source": [
    "def Adaline(X,Y):\n",
    "    n, m = X.shape\n",
    "    W = np.zeros(shape=(m, 1))\n",
    "    new_W = np.zeros(shape=(m, 1))\n",
    "    delta_W=np.zeros(shape=(m, 1))\n",
    "    b = 0.0\n",
    "    alpha=0.001\n",
    "    epsilon=0.0001\n",
    "    new_b = 0.0\n",
    "    run=0\n",
    "    y=[]\n",
    "    while run==0:\n",
    "        for i, (xi, yi) in enumerate(zip(X, Y)):\n",
    "            z = xi.dot(W)+b\n",
    "            y.append(lamd(z))\n",
    "        delta_b = alpha * np.sum(Y - y)\n",
    "        delta_W = alpha * np.dot(X.T, Y - y)\n",
    "        if (delta_b ** 2) + np.sum(delta_W ** 2) < epsilon:\n",
    "            run=1\n",
    "        else:\n",
    "            b = b+delta_b\n",
    "            for x in range(4):\n",
    "                W[x]=W[x]+delta_W[x]\n",
    "            y.clear()\n",
    "    print(\"Teaching accuracy = \",accuracy_score(Y.tolist(), y))\n",
    "    return W\n"
   ]
  },
  {
   "cell_type": "markdown",
   "metadata": {},
   "source": [
    "Подсчет доли верно определенных классов на валидационной выборе"
   ]
  },
  {
   "cell_type": "code",
   "execution_count": 4,
   "metadata": {},
   "outputs": [],
   "source": [
    "def Test(X,Y,W):\n",
    "    Y.tolist()\n",
    "    Ys=[]\n",
    "    for xi, yi in zip(X, Y):\n",
    "            z = xi.dot(W)\n",
    "            y = lamd(z)\n",
    "            Ys.append(y)\n",
    "    print(\"Test accuracy = \",accuracy_score(Y.tolist(), Ys))"
   ]
  },
  {
   "cell_type": "markdown",
   "metadata": {},
   "source": [
    "Линейно разделимые классы: Iris-setosa, Iris-versicolor"
   ]
  },
  {
   "cell_type": "code",
   "execution_count": 5,
   "metadata": {},
   "outputs": [],
   "source": [
    "iris = pd.read_csv('iris.data.csv')"
   ]
  },
  {
   "cell_type": "code",
   "execution_count": 6,
   "metadata": {},
   "outputs": [],
   "source": [
    "iris_dict = {\n",
    "    'Iris-setosa': -1,\n",
    "    'Iris-versicolor': 1\n",
    "}"
   ]
  },
  {
   "cell_type": "code",
   "execution_count": 7,
   "metadata": {},
   "outputs": [],
   "source": [
    "iris.replace({'class': iris_dict}, inplace=True)"
   ]
  },
  {
   "cell_type": "code",
   "execution_count": 8,
   "metadata": {},
   "outputs": [],
   "source": [
    "Xline = iris.values[:100,:-1]\n",
    "Yline = iris.values[:100,-1]"
   ]
  },
  {
   "cell_type": "code",
   "execution_count": 9,
   "metadata": {},
   "outputs": [],
   "source": [
    "x_teach, x_test, y_teach, y_test = train_test_split(Xline, Yline, test_size=0.2)"
   ]
  },
  {
   "cell_type": "code",
   "execution_count": 10,
   "metadata": {},
   "outputs": [
    {
     "name": "stdout",
     "output_type": "stream",
     "text": [
      "Teaching accuracy =  1.0\n",
      "Test accuracy =  1.0\n"
     ]
    }
   ],
   "source": [
    "W=Adaline(x_teach,y_teach,)\n",
    "Test(x_test,y_test,W)"
   ]
  },
  {
   "cell_type": "markdown",
   "metadata": {},
   "source": [
    "Линейно неразделимые классы: Iris-versicolor, Iris-virginica"
   ]
  },
  {
   "cell_type": "code",
   "execution_count": 11,
   "metadata": {},
   "outputs": [],
   "source": [
    "iris = pd.read_csv('iris.data.csv')"
   ]
  },
  {
   "cell_type": "code",
   "execution_count": 12,
   "metadata": {},
   "outputs": [],
   "source": [
    "iris_dict = {\n",
    "    'Iris-virginica': -1,\n",
    "    'Iris-versicolor': 1\n",
    "}"
   ]
  },
  {
   "cell_type": "code",
   "execution_count": 13,
   "metadata": {},
   "outputs": [],
   "source": [
    "iris.replace({'class': iris_dict}, inplace=True)"
   ]
  },
  {
   "cell_type": "code",
   "execution_count": 14,
   "metadata": {},
   "outputs": [],
   "source": [
    "Xnoline = iris.values[50:150,:-1]\n",
    "Ynoline = iris.values[50:150,-1]"
   ]
  },
  {
   "cell_type": "code",
   "execution_count": 15,
   "metadata": {},
   "outputs": [],
   "source": [
    "x_teach, x_test, y_teach, y_test = train_test_split(Xline, Yline, test_size=0.2)"
   ]
  },
  {
   "cell_type": "code",
   "execution_count": 16,
   "metadata": {},
   "outputs": [
    {
     "name": "stdout",
     "output_type": "stream",
     "text": [
      "Teaching accuracy =  1.0\n",
      "Test accuracy =  1.0\n"
     ]
    }
   ],
   "source": [
    "W=Adaline(x_teach,y_teach,)\n",
    "Test(x_test,y_test,W)"
   ]
  },
  {
   "cell_type": "code",
   "execution_count": null,
   "metadata": {},
   "outputs": [],
   "source": []
  }
 ],
 "metadata": {
  "kernelspec": {
   "display_name": "Python 3",
   "language": "python",
   "name": "python3"
  },
  "language_info": {
   "codemirror_mode": {
    "name": "ipython",
    "version": 3
   },
   "file_extension": ".py",
   "mimetype": "text/x-python",
   "name": "python",
   "nbconvert_exporter": "python",
   "pygments_lexer": "ipython3",
   "version": "3.7.2"
  }
 },
 "nbformat": 4,
 "nbformat_minor": 2
}
